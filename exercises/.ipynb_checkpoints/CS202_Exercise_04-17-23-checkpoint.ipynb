{
 "cells": [
  {
   "cell_type": "markdown",
   "metadata": {},
   "source": [
    "# CS202: Compiler Construction\n",
    "\n",
    "## In-class Exercises, Week of 04/17/2023\n",
    "\n",
    "----"
   ]
  },
  {
   "cell_type": "markdown",
   "metadata": {},
   "source": [
    "# Select-Instructions"
   ]
  },
  {
   "cell_type": "markdown",
   "metadata": {},
   "source": [
    "## Question 1\n",
    "\n",
    "Write an `X86fun` program that's equivalent to the following `Cfun` program:\n",
    "\n",
    "```\n",
    "def add1(n):\n",
    "  add1start:\n",
    "    tmp_1 = add(n, 1)\n",
    "    return tmp_1\n",
    "\n",
    "def main():\n",
    "  mainstart:\n",
    "    tmp_2 = add1\n",
    "    tmp_3 = tmp_2(5)\n",
    "    print(tmp_3)\n",
    "    return 0\n",
    "```"
   ]
  },
  {
   "cell_type": "markdown",
   "metadata": {},
   "source": [
    "We will do select-instructions for each function def separately, and keep them separate.\n",
    "\n",
    "\n",
    "```\n",
    "def add1:\n",
    "  add1start:\n",
    "    movq %rdi, #n\n",
    "    movq #n, #tmp_1\n",
    "    addq $1, #tmp_1\n",
    "    movq #tmp_1, %rax\n",
    "    jmp add1conclusion\n",
    "\n",
    "def main():\n",
    "  mainstart:\n",
    "    leaq addq(%rip), #tmp_2\n",
    "    movq $5, %rdi\n",
    "    callq *#tmp_2\n",
    "    \n",
    "    movq %rax, #tmp_3\n",
    "    movq #tmp_3, %rdi\n",
    "    callq print_int\n",
    "    \n",
    "    movq $0, %rax\n",
    "    call mainconclusion\n",
    "```"
   ]
  },
  {
   "cell_type": "markdown",
   "metadata": {},
   "source": [
    "## Question 2\n",
    "\n",
    "Describe the changes to `select-instructions`."
   ]
  },
  {
   "cell_type": "markdown",
   "metadata": {},
   "source": [
    "1. Define a new function `si_def` to compile a function definition\n",
    "2. New/changed cases: Call, Return, Function assignment\n",
    "3. Add a pass-global var called `current_function` to track what function is being compiled (just like explicate-control)\n",
    "\n",
    "New function `si_def`:\n",
    "1. Set `current_function` to the name of the function being compiled\n",
    "2. Call `si_stmts` on the statements of each CFG block\n",
    "3. For the name+start block, add statements to set up the arguments: one movq for each parameter, from the parameter passing register to the variable with the parameter's name\n",
    "4. Return a new x86 function definition\n",
    "\n",
    "New cases in `si_stmt`:\n",
    "1. Return should now jump to current_function + conclusion\n",
    "2. `cfun.Assign(x, cfun.Var(f)) if f in function_names`: use `x86.NamedInstr('leaq', [x86.GlobalVal(f), x86.Var(x)])`\n",
    "3. `cfun.Assign(x, cfun.Call(fun, args))`:\n",
    "    1. Move the arguments into the parameter registers (reverse of the definition case)\n",
    "    2. Preform an indirect callq: `x86.IndirectCallq(si_atm(fun), 0)`\n",
    "    3. Move the return value into the destination variable: `x86.NamedInstr('movq', [x86.Reg('rax'), x86.Var(x)])`"
   ]
  },
  {
   "cell_type": "markdown",
   "metadata": {},
   "source": [
    "----\n",
    "# Register allocation"
   ]
  },
  {
   "cell_type": "markdown",
   "metadata": {},
   "source": [
    "## Question 3\n",
    "\n",
    "Describe the changes to the register allocator."
   ]
  },
  {
   "cell_type": "markdown",
   "metadata": {},
   "source": [
    "Copy the pass from A6, name it `_allocate_registers`, and call it for each of the functions in the program.\n",
    "\n",
    "This means we perform register allocation for each function separately.\n",
    "\n",
    "In addition, change the register allocator to ensure that we follow the calling convention.\n",
    "- We want to ensure that no value in a caller-saved register will be live across a call to any function\n",
    "- Alternative would be to explicitly save the caller-saved registers before doing the call (But this requires lots of memory accesses)\n",
    "\n",
    "Change to `bi_instr` in the allocator:\n",
    "- For callq and indirectcallq: add an edge in the interference graph between each live variable and each caller-saved register\n",
    "\n",
    "TO ensure we don't overwrite parameter-passing registers before we read in their values:\n",
    "- Change `vars_arg` to return registers\n",
    "- This ensures that we don't overwrite a parameter-passing register until after we've used the value that was in it\n",
    "- Effect is to put register whose values we still need in the live-after sets of instructions where they might get overwritten"
   ]
  },
  {
   "cell_type": "markdown",
   "metadata": {},
   "source": [
    "----\n",
    "# Patch Instructions"
   ]
  },
  {
   "cell_type": "markdown",
   "metadata": {},
   "source": [
    "## Question 4\n",
    "\n",
    "Describe the changes to patch-instructions."
   ]
  },
  {
   "cell_type": "markdown",
   "metadata": {},
   "source": [
    "Copy the pass from A6, name it `_patch_instructions`, and call it for each of the functions in the program.\n",
    "\n",
    "That's all you have to do"
   ]
  },
  {
   "cell_type": "markdown",
   "metadata": {},
   "source": [
    "----\n",
    "# Prelude & Conclusion"
   ]
  },
  {
   "cell_type": "markdown",
   "metadata": {},
   "source": [
    "## Question 5\n",
    "\n",
    "Describe the changes to prelude & conclusion."
   ]
  },
  {
   "cell_type": "markdown",
   "metadata": {},
   "source": [
    "Copy the pass from A6, name it `_prelude_conclusion`, and call it for each of the functions in the program.\n",
    "\n",
    "Flatten out the function definitions into a single x86 program.\n",
    "\n",
    "Also need to make several other changes:\n",
    "1. Save and restore the callee-registers: add pushq instructions to prelude to save the registers; popq instructions to conclusion to restore them\n",
    "2. Initialize the heap only in the \"main\" function: call the \"initialize\" function only if the name is main\n",
    "3. Add an instruction to tear down the root stack frame\n",
    "4. Use the function's name as the prelude label (instead of \"main\")\n",
    "5. Use name + 'conclusion' as the conclusion label"
   ]
  },
  {
   "cell_type": "markdown",
   "metadata": {},
   "source": [
    "----\n",
    "# Dataclasses and Objects"
   ]
  },
  {
   "cell_type": "markdown",
   "metadata": {},
   "source": [
    "## Question 6\n",
    "\n",
    "Transform the following program into an `Ltup` program using tuples.\n",
    "\n",
    "```\n",
    "class Point:\n",
    "    x: int\n",
    "    y: int\n",
    "\n",
    "p = Point(1, 2)\n",
    "v = p.x + p.y\n",
    "print(v)\n",
    "```"
   ]
  },
  {
   "cell_type": "code",
   "execution_count": 2,
   "metadata": {
    "scrolled": true
   },
   "outputs": [
    {
     "name": "stdout",
     "output_type": "stream",
     "text": [
      "3\n"
     ]
    }
   ],
   "source": [
    "p = (1, 2)\n",
    "v = p[0] + p [1]\n",
    "print(v)"
   ]
  },
  {
   "cell_type": "markdown",
   "metadata": {},
   "source": [
    "## Question 7\n",
    "\n",
    "Describe the changes to the compiler to support dataclasses."
   ]
  },
  {
   "cell_type": "markdown",
   "metadata": {},
   "source": [
    "High level idea:\n",
    "1. Represent objects using tuples allocated on the heap\n",
    "2. Build a mapping from field names to where they are stored in the tuple representing the object itself\n",
    "3. Turn object constructors into tuple construction\n",
    "4. Turn field references into tuple subscripts, using #2 to know what index to look at\n",
    "\n",
    "Detailed changes to the compiler:\n",
    "1. Modify the typechecker\n",
    "    - Define a new type for dataclasses: should have a dict mapping field names to their types\n",
    "    - Add a dataclass case to tc_stmt that adds a type for the object constructor to the type environment\n",
    "    - Add a field reference case to tc_exp\n",
    "2. Update RCO\n",
    "    - add a case for field reference : call rco_exp on the object to make sure it's atomic\n",
    "3. Add a new pass after the 2nd typechecker\n",
    "    - translate calls to object constructors to calls o tuple \n",
    "    - translate field references to tuple subscript\n",
    "        - get the type of the object (look it up in the saved types from the typechecker)\n",
    "        - find the index of the referenced field in the type's dict\n",
    "        - return a tuple subscript expression where the tuple is the object var and the subscript is the index"
   ]
  },
  {
   "cell_type": "markdown",
   "metadata": {},
   "source": [
    "## Question 8\n",
    "\n",
    "Transform the following program into an `Lfun` program using tuples.\n",
    "\n",
    "```\n",
    "class Point:\n",
    "    x: int\n",
    "    y: int\n",
    "    \n",
    "    def add(self: Point, other: Point) -> Point:\n",
    "        return Point(self.x + other.x, self.y + other.y)\n",
    "\n",
    "p1 = Point(1, 2)\n",
    "p2 = Point(3, 4)\n",
    "p3 = p1.add(p2)\n",
    "v = p3.x + p3.y\n",
    "print(v)\n",
    "```"
   ]
  },
  {
   "cell_type": "code",
   "execution_count": 5,
   "metadata": {},
   "outputs": [
    {
     "name": "stdout",
     "output_type": "stream",
     "text": [
      "10\n"
     ]
    }
   ],
   "source": [
    "# 1. turn methods into top-level functions\n",
    "# 2. have each object store a \"method table\" that includes pointers to all its methods\n",
    "# 3. for method calls, look up the method to invoke from the method \n",
    "\n",
    "def add(self: Point, other: Point) -> Point:\n",
    "    return ((add,), self[1] + other[1], self[2] + other[2])\n",
    "\n",
    "p1 = ((add,), 1, 2)\n",
    "p2 = ((add,), 3, 4)\n",
    "p3 = p1[0][0](p1, p2)\n",
    "v = p3[1] + p3[2]\n",
    "print(v)"
   ]
  },
  {
   "cell_type": "code",
   "execution_count": null,
   "metadata": {},
   "outputs": [],
   "source": []
  }
 ],
 "metadata": {
  "kernelspec": {
   "display_name": "Python 3 (ipykernel)",
   "language": "python",
   "name": "python3"
  },
  "language_info": {
   "codemirror_mode": {
    "name": "ipython",
    "version": 3
   },
   "file_extension": ".py",
   "mimetype": "text/x-python",
   "name": "python",
   "nbconvert_exporter": "python",
   "pygments_lexer": "ipython3",
   "version": "3.10.9"
  }
 },
 "nbformat": 4,
 "nbformat_minor": 4
}
